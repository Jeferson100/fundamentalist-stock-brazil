{
 "cells": [
  {
   "cell_type": "code",
   "execution_count": 1,
   "metadata": {},
   "outputs": [
    {
     "ename": "ImportError",
     "evalue": "cannot import name 'FluxoCaixaDataScraper' from 'FundamentsStockBrazil.CashFlow' (/workspaces/fundamentalist-stock-brazil/codigos_rodando/../FundamentsStockBrazil/CashFlow.py)",
     "output_type": "error",
     "traceback": [
      "\u001b[0;31m---------------------------------------------------------------------------\u001b[0m",
      "\u001b[0;31mImportError\u001b[0m                               Traceback (most recent call last)",
      "Cell \u001b[0;32mIn[1], line 3\u001b[0m\n\u001b[1;32m      1\u001b[0m \u001b[38;5;28;01mimport\u001b[39;00m \u001b[38;5;21;01msys\u001b[39;00m\n\u001b[1;32m      2\u001b[0m sys\u001b[38;5;241m.\u001b[39mpath\u001b[38;5;241m.\u001b[39mappend(\u001b[38;5;124m'\u001b[39m\u001b[38;5;124m..\u001b[39m\u001b[38;5;124m'\u001b[39m)\n\u001b[0;32m----> 3\u001b[0m \u001b[38;5;28;01mfrom\u001b[39;00m \u001b[38;5;21;01mFundamentsStockBrazil\u001b[39;00m\u001b[38;5;21;01m.\u001b[39;00m\u001b[38;5;21;01mCashFlow\u001b[39;00m \u001b[38;5;28;01mimport\u001b[39;00m FluxoCaixaDataScraper\n\u001b[1;32m      4\u001b[0m \u001b[38;5;28;01mfrom\u001b[39;00m \u001b[38;5;21;01mselenium\u001b[39;00m\u001b[38;5;21;01m.\u001b[39;00m\u001b[38;5;21;01mwebdriver\u001b[39;00m\u001b[38;5;21;01m.\u001b[39;00m\u001b[38;5;21;01mchrome\u001b[39;00m\u001b[38;5;21;01m.\u001b[39;00m\u001b[38;5;21;01mservice\u001b[39;00m \u001b[38;5;28;01mimport\u001b[39;00m Service\n\u001b[1;32m      5\u001b[0m \u001b[38;5;28;01mfrom\u001b[39;00m \u001b[38;5;21;01mselenium\u001b[39;00m\u001b[38;5;21;01m.\u001b[39;00m\u001b[38;5;21;01mwebdriver\u001b[39;00m\u001b[38;5;21;01m.\u001b[39;00m\u001b[38;5;21;01mchrome\u001b[39;00m\u001b[38;5;21;01m.\u001b[39;00m\u001b[38;5;21;01moptions\u001b[39;00m \u001b[38;5;28;01mimport\u001b[39;00m Options\n",
      "\u001b[0;31mImportError\u001b[0m: cannot import name 'FluxoCaixaDataScraper' from 'FundamentsStockBrazil.CashFlow' (/workspaces/fundamentalist-stock-brazil/codigos_rodando/../FundamentsStockBrazil/CashFlow.py)"
     ]
    }
   ],
   "source": [
    "import sys\n",
    "sys.path.append('..')\n",
    "from FundamentsStockBrazil.CashFlow import FluxoCaixaDataScraper\n",
    "from selenium.webdriver.chrome.service import Service\n",
    "from selenium.webdriver.chrome.options import Options\n",
    "\n",
    "codigos_ibovespa = [\n",
    "    'ABEV3','ABEV3', 'AZUL4', 'ITUB4', 'bbbbbb'\n",
    "]\n",
    "\n",
    "setor_financeiro = {'BBAS3', 'BBDC3', 'BBDC4', 'BBSE3', 'ITUB4', 'BPAC11', 'ITUB4', 'SANB11', 'IRBR3'}\n",
    "\n",
    "chrome_driver_path = \"/usr/bin/chromedriver\"\n",
    "\n",
    "service = Service(executable_path=chrome_driver_path)\n",
    "\n",
    "options = Options()\n",
    "options.add_argument(\"--headless\")  # Executar em modo headless\n",
    "options.add_argument(\"--no-sandbox\")\n",
    "options.add_argument(\"--disable-dev-shm-usage\")\n",
    "options.add_argument(\"--disable-dev-shm-usage\")  # Reduz o uso de memória\n",
    "options.add_argument(\"--disable-gpu\")  # Desativar o uso de GPU\n",
    "options.add_argument(\"--window-size=1920,1080\")  # Definir o tamanho da janela\n",
    "\n",
    "scraper = FluxoCaixaDataScraper(setor_financeiro, options, service, acoes=codigos_ibovespa, diretorio='../dados/fluxo_caixa.csv')\n",
    "\n",
    "dados = scraper.rodar_acoes()\n",
    "\n",
    "dados.to_csv('../dados/fluxo_caixa.csv')"
   ]
  },
  {
   "cell_type": "code",
   "execution_count": 3,
   "metadata": {},
   "outputs": [
    {
     "name": "stdout",
     "output_type": "stream",
     "text": [
      "Rode o codigo\n",
      "Ação ABEV3 já processada, pulando.\n",
      "Rode o codigo\n",
      "Rode o codigo\n",
      "Ação ABEV3 já processada, pulando.\n",
      "Rode o codigo\n",
      "Rode o codigo\n",
      "Código de negociação não encontrado.\n"
     ]
    }
   ],
   "source": [
    "from selenium.webdriver.chrome.service import Service\n",
    "from selenium.webdriver.chrome.options import Options\n",
    "from selenium import webdriver\n",
    "from selenium.webdriver.common.by import By\n",
    "chrome_driver_path = \"/usr/bin/chromedriver\"\n",
    "\n",
    "service = Service(executable_path=chrome_driver_path)\n",
    "\n",
    "options = Options()\n",
    "options.add_argument(\"--headless\")  # Executar em modo headless\n",
    "options.add_argument(\"--no-sandbox\")\n",
    "options.add_argument(\"--disable-dev-shm-usage\")\n",
    "options.add_argument(\"--disable-dev-shm-usage\")  # Reduz o uso de memória\n",
    "options.add_argument(\"--disable-gpu\")  # Desativar o uso de GPU\n",
    "options.add_argument(\"--window-size=1920,1080\")  # Definir o tamanho da janela\n",
    "\n",
    "codigos_ibovespa = [\n",
    "    'ABEV3','ABEV3', 'AZUL4','BBDC4', 'ABEV3','BBSE3', 'ITUB4','ABEBEB'\n",
    "]\n",
    "\n",
    "acoes_processadas = set()\n",
    "for acao in codigos_ibovespa:\n",
    "    navegador = webdriver.Chrome(service=service, options=options)\n",
    "    navegador.get(f'https://www.investsite.com.br/principais_indicadores.php?cod_negociacao={acao}')\n",
    "    elemento = navegador.find_elements(By.XPATH, '/html/body/div[1]/div[4]/div[2]')\n",
    "    if acao in acoes_processadas:\n",
    "        print(f\"Ação {acao} já processada, pulando.\")   \n",
    "    elif 'código de negociação não encontrado.' in elemento[0].text:\n",
    "        print(\"Código de negociação não encontrado.\")         \n",
    "    else:\n",
    "        print('Rode o codigo')\n",
    "    acoes_processadas.add(acao)"
   ]
  },
  {
   "cell_type": "code",
   "execution_count": 28,
   "metadata": {},
   "outputs": [],
   "source": [
    "from selenium import webdriver\n",
    "from selenium.webdriver.common.by import By\n",
    "navegador = webdriver.Chrome(service=service, options=options)\n",
    "navegador.get(f'https://www.investsite.com.br/principais_indicadores.php?cod_negociacao=bbba3')"
   ]
  },
  {
   "cell_type": "code",
   "execution_count": 29,
   "metadata": {},
   "outputs": [],
   "source": [
    "elemento = navegador.find_elements(By.XPATH, '/html/body/div[1]/div[4]/div[2]')"
   ]
  },
  {
   "cell_type": "code",
   "execution_count": 30,
   "metadata": {},
   "outputs": [],
   "source": [
    "mensagem = elemento[0].text"
   ]
  },
  {
   "cell_type": "code",
   "execution_count": 38,
   "metadata": {},
   "outputs": [
    {
     "name": "stdout",
     "output_type": "stream",
     "text": [
      "Código de negociação não encontrado.\n"
     ]
    }
   ],
   "source": [
    "if 'código de negociação não encontrado.' in mensagem:\n",
    "    print(\"Código de negociação não encontrado.\")"
   ]
  },
  {
   "cell_type": "code",
   "execution_count": null,
   "metadata": {},
   "outputs": [],
   "source": []
  }
 ],
 "metadata": {
  "kernelspec": {
   "display_name": "env",
   "language": "python",
   "name": "python3"
  },
  "language_info": {
   "codemirror_mode": {
    "name": "ipython",
    "version": 3
   },
   "file_extension": ".py",
   "mimetype": "text/x-python",
   "name": "python",
   "nbconvert_exporter": "python",
   "pygments_lexer": "ipython3",
   "version": "3.12.3"
  }
 },
 "nbformat": 4,
 "nbformat_minor": 2
}
