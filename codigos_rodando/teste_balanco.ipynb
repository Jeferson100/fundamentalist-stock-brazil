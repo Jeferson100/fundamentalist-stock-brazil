{
 "cells": [
  {
   "cell_type": "code",
   "execution_count": 4,
   "metadata": {},
   "outputs": [
    {
     "name": "stdout",
     "output_type": "stream",
     "text": [
      "Tempo de execução da ação BBAS3: 0.06 minutos\n",
      "Tempo de execução da ação BBDC3: 0.06 minutos\n"
     ]
    }
   ],
   "source": [
    "import sys\n",
    "sys.path.append('..')\n",
    "from FundamentsStockBrazil.SetorSubsetor import SetorDataScraper\n",
    "from selenium.webdriver.chrome.service import Service\n",
    "from selenium.webdriver.chrome.options import Options\n",
    "\n",
    "with open('codigos_ibovespa.txt', 'r') as f:\n",
    "    codigos_ibovespa = f.read().splitlines()\n",
    "    \n",
    "codigos_ibovespa = ['BBAS3', 'BBDC3']\n",
    "\n",
    "setor_financeiro = {'BBAS3', 'BBDC3', 'BBDC4', 'BBSE3', 'ITUB4', 'BPAC11', 'ITUB4', 'SANB11', 'IRBR3'}\n",
    "\n",
    "chrome_driver_path = \"/usr/bin/chromedriver\"\n",
    "\n",
    "service = Service(executable_path=chrome_driver_path)\n",
    "\n",
    "options = Options()\n",
    "options.add_argument(\"--headless\")  # Executar em modo headless\n",
    "options.add_argument(\"--no-sandbox\")\n",
    "options.add_argument(\"--disable-dev-shm-usage\")\n",
    "options.add_argument(\"--disable-dev-shm-usage\")  # Reduz o uso de memória\n",
    "options.add_argument(\"--disable-gpu\")  # Desativar o uso de GPU\n",
    "options.add_argument(\"--window-size=1920,1080\")  # Definir o tamanho da janela\n",
    "\n",
    "scraper = SetorDataScraper(setor_financeiro, options, codigos_ibovespa)\n",
    "\n",
    "dados = scraper.rodar_acoes()\n",
    "\n",
    "dados.to_csv('../dados/setor.csv')"
   ]
  },
  {
   "cell_type": "code",
   "execution_count": 3,
   "metadata": {},
   "outputs": [
    {
     "name": "stdout",
     "output_type": "stream",
     "text": [
      "Rode o codigo\n",
      "Ação ABEV3 já processada, pulando.\n",
      "Rode o codigo\n",
      "Rode o codigo\n",
      "Ação ABEV3 já processada, pulando.\n",
      "Rode o codigo\n",
      "Rode o codigo\n",
      "Código de negociação não encontrado.\n"
     ]
    }
   ],
   "source": [
    "from selenium.webdriver.chrome.service import Service\n",
    "from selenium.webdriver.chrome.options import Options\n",
    "from selenium import webdriver\n",
    "from selenium.webdriver.common.by import By\n",
    "chrome_driver_path = \"/usr/bin/chromedriver\"\n",
    "\n",
    "service = Service(executable_path=chrome_driver_path)\n",
    "\n",
    "options = Options()\n",
    "options.add_argument(\"--headless\")  # Executar em modo headless\n",
    "options.add_argument(\"--no-sandbox\")\n",
    "options.add_argument(\"--disable-dev-shm-usage\")\n",
    "options.add_argument(\"--disable-dev-shm-usage\")  # Reduz o uso de memória\n",
    "options.add_argument(\"--disable-gpu\")  # Desativar o uso de GPU\n",
    "options.add_argument(\"--window-size=1920,1080\")  # Definir o tamanho da janela\n",
    "\n",
    "codigos_ibovespa = [\n",
    "    'ABEV3','ABEV3', 'AZUL4','BBDC4', 'ABEV3','BBSE3', 'ITUB4','ABEBEB'\n",
    "]\n",
    "\n",
    "acoes_processadas = set()\n",
    "for acao in codigos_ibovespa:\n",
    "    navegador = webdriver.Chrome(service=service, options=options)\n",
    "    navegador.get(f'https://www.investsite.com.br/principais_indicadores.php?cod_negociacao={acao}')\n",
    "    elemento = navegador.find_elements(By.XPATH, '/html/body/div[1]/div[4]/div[2]')\n",
    "    if acao in acoes_processadas:\n",
    "        print(f\"Ação {acao} já processada, pulando.\")   \n",
    "    elif 'código de negociação não encontrado.' in elemento[0].text:\n",
    "        print(\"Código de negociação não encontrado.\")         \n",
    "    else:\n",
    "        print('Rode o codigo')\n",
    "    acoes_processadas.add(acao)"
   ]
  },
  {
   "cell_type": "code",
   "execution_count": null,
   "metadata": {},
   "outputs": [],
   "source": []
  }
 ],
 "metadata": {
  "kernelspec": {
   "display_name": ".venv",
   "language": "python",
   "name": "python3"
  },
  "language_info": {
   "codemirror_mode": {
    "name": "ipython",
    "version": 3
   },
   "file_extension": ".py",
   "mimetype": "text/x-python",
   "name": "python",
   "nbconvert_exporter": "python",
   "pygments_lexer": "ipython3",
   "version": "3.12.0"
  }
 },
 "nbformat": 4,
 "nbformat_minor": 2
}
