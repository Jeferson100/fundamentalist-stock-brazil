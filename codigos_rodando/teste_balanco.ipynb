{
 "cells": [
  {
   "cell_type": "code",
   "execution_count": null,
   "metadata": {},
   "outputs": [],
   "source": [
    "import sys\n",
    "sys.path.append('..')\n",
    "from FundamentsStockBrazil.SetorSubsetor import SetorDataScraper\n",
    "from selenium.webdriver.chrome.service import Service\n",
    "from selenium.webdriver.chrome.options import Options\n",
    "\n",
    "with open('codigos_teste.txt', 'r') as f:\n",
    "    codigos_ibovespa = f.read().splitlines()\n",
    "\n",
    "setor_financeiro = {'BBAS3', 'BBDC3', 'BBDC4', 'BBSE3', 'ITUB4', 'BPAC11', 'ITUB4', 'SANB11', 'IRBR3'}\n",
    "\n",
    "chrome_driver_path = \"/usr/bin/chromedriver\"\n",
    "\n",
    "service = Service(executable_path=chrome_driver_path)\n",
    "\n",
    "options = Options()\n",
    "options.add_argument(\"--headless\")  # Executar em modo headless\n",
    "options.add_argument(\"--no-sandbox\")\n",
    "options.add_argument(\"--disable-dev-shm-usage\")\n",
    "options.add_argument(\"--disable-dev-shm-usage\")  # Reduz o uso de memória\n",
    "options.add_argument(\"--disable-gpu\")  # Desativar o uso de GPU\n",
    "options.add_argument(\"--window-size=1920,1080\")  # Definir o tamanho da janela\n",
    "\n",
    "scraper = SetorDataScraper(setor_financeiro, options, service, acoes=codigos_ibovespa)\n",
    "\n",
    "dados = scraper.rodar_acoes()\n",
    "\n",
    "dados.to_csv('../dados/setor.csv')"
   ]
  },
  {
   "cell_type": "code",
   "execution_count": 1,
   "metadata": {},
   "outputs": [],
   "source": [
    "with open('codigos_ibovespa.txt', 'r') as f:\n",
    "    codigos_ibovespa = f.read().splitlines()"
   ]
  },
  {
   "cell_type": "code",
   "execution_count": 7,
   "metadata": {},
   "outputs": [
    {
     "data": {
      "text/plain": [
       "['AALR3',\n",
       " 'ABEV3',\n",
       " 'AFLT3',\n",
       " 'AGRO3',\n",
       " 'AGXY3',\n",
       " 'AHEB3',\n",
       " 'ALPA3',\n",
       " 'ALPA4',\n",
       " 'ALPK3',\n",
       " 'ALLD3',\n",
       " 'ALOS3',\n",
       " 'AMBP3',\n",
       " 'AMAR3',\n",
       " 'AMER3',\n",
       " 'ANIM3',\n",
       " 'APER3',\n",
       " 'ARZZ3',\n",
       " 'ASAI3',\n",
       " 'AURE3',\n",
       " 'AVLL3',\n",
       " 'AZEV3',\n",
       " 'AZUL4',\n",
       " 'AZZA3',\n",
       " 'BALM4',\n",
       " 'BAUH4',\n",
       " 'BAZA3',\n",
       " 'BBAS3',\n",
       " 'BBSE3',\n",
       " 'BBDC3',\n",
       " 'BBDC4',\n",
       " 'BBSE3',\n",
       " 'BGIP3',\n",
       " 'BGIP4',\n",
       " 'BIOM3',\n",
       " 'BLAU3',\n",
       " 'BMEB3',\n",
       " 'BMEB4',\n",
       " 'BMKS3',\n",
       " 'BMIN3',\n",
       " 'BMIN4',\n",
       " 'BMOB3',\n",
       " 'BPAN4',\n",
       " 'BPAC11',\n",
       " 'BPAC3',\n",
       " 'BPAC5',\n",
       " 'BRAP3',\n",
       " 'BRAP4',\n",
       " 'BRAV3',\n",
       " 'BRBI11',\n",
       " 'BRFS3',\n",
       " 'BRKM11',\n",
       " 'BRKM3',\n",
       " 'BRKM5',\n",
       " 'BRST3',\n",
       " 'BRSR3',\n",
       " 'BRSR6',\n",
       " 'BSLI3',\n",
       " 'BSLI4',\n",
       " 'BTOW3',\n",
       " 'CAMB3',\n",
       " 'CAMB5',\n",
       " 'CAML3',\n",
       " 'CASH3',\n",
       " 'CCRO3',\n",
       " 'CEAB3',\n",
       " 'CEBR6',\n",
       " 'CEDO3',\n",
       " 'CEDO4',\n",
       " 'CGAS3',\n",
       " 'CGAS5',\n",
       " 'CLSA3',\n",
       " 'CMIG3',\n",
       " 'CMIG4',\n",
       " 'COGN3',\n",
       " 'CRFB3',\n",
       " 'CSAN3',\n",
       " 'CSMG3',\n",
       " 'CSNA3',\n",
       " 'CSUD3',\n",
       " 'CYRE3',\n",
       " 'DIRR3',\n",
       " 'DXCO3',\n",
       " 'EALT3',\n",
       " 'EALT4',\n",
       " 'ECOR3',\n",
       " 'EGIE3',\n",
       " 'ELET3',\n",
       " 'ELET6',\n",
       " 'EMBR3',\n",
       " 'ENEV3',\n",
       " 'ENGI11',\n",
       " 'ENGI3',\n",
       " 'ENGI4',\n",
       " 'EQTL3',\n",
       " 'ESPA3',\n",
       " 'EZTC3',\n",
       " 'FESA3',\n",
       " 'FESA4',\n",
       " 'FIQE3',\n",
       " 'FLRY3']"
      ]
     },
     "execution_count": 7,
     "metadata": {},
     "output_type": "execute_result"
    }
   ],
   "source": [
    "codigos_ibovespa[:100]"
   ]
  },
  {
   "cell_type": "code",
   "execution_count": 5,
   "metadata": {},
   "outputs": [
    {
     "data": {
      "text/plain": [
       "['FRAS3',\n",
       " 'GGBR3',\n",
       " 'GGBR4',\n",
       " 'GOAU3',\n",
       " 'GOAU4',\n",
       " 'GOLL4',\n",
       " 'HAPV3',\n",
       " 'HYPE3',\n",
       " 'IGTI3',\n",
       " 'IGTI11',\n",
       " 'INTB3',\n",
       " 'IRBR3',\n",
       " 'ITSA3',\n",
       " 'ITSA4',\n",
       " 'ITUB3',\n",
       " 'ITUB4',\n",
       " 'JBSS3',\n",
       " 'JHSF3',\n",
       " 'KLBN3',\n",
       " 'KLBN4',\n",
       " 'KLBN11',\n",
       " 'LIGT3',\n",
       " 'LINX3',\n",
       " 'LOGG3',\n",
       " 'LREN3',\n",
       " 'LWSA3',\n",
       " 'MDIA3',\n",
       " 'MGLU3',\n",
       " 'MRFG3',\n",
       " 'MRVE3',\n",
       " 'MULT3',\n",
       " 'NEOE3',\n",
       " 'NTCO3',\n",
       " 'OIBR3',\n",
       " 'OIBR4',\n",
       " 'ONCO3',\n",
       " 'PCAR3',\n",
       " 'PETR3',\n",
       " 'PETR4',\n",
       " 'PETZ3',\n",
       " 'POSI3',\n",
       " 'PSSA3',\n",
       " 'PRIO3',\n",
       " 'QUAL3',\n",
       " 'RADL3',\n",
       " 'RAIL3',\n",
       " 'RAIZ4',\n",
       " 'RENT3',\n",
       " 'RRRP3',\n",
       " 'SBSP3',\n",
       " 'SLCE3',\n",
       " 'SMFT3',\n",
       " 'SMTO3',\n",
       " 'SUZB3',\n",
       " 'TAEE11',\n",
       " 'TAEE3',\n",
       " 'TAEE4',\n",
       " 'TASA3',\n",
       " 'TASA4',\n",
       " 'TIMS3',\n",
       " 'TOTS3',\n",
       " 'TRIS3',\n",
       " 'UGPA3',\n",
       " 'USIM3',\n",
       " 'USIM5',\n",
       " 'VALE3',\n",
       " 'VIIA3',\n",
       " 'VIVT3',\n",
       " 'WEGE3',\n",
       " 'YDUQ3']"
      ]
     },
     "execution_count": 5,
     "metadata": {},
     "output_type": "execute_result"
    }
   ],
   "source": [
    "codigos_ibovespa[100:]"
   ]
  },
  {
   "cell_type": "code",
   "execution_count": 3,
   "metadata": {},
   "outputs": [
    {
     "name": "stdout",
     "output_type": "stream",
     "text": [
      "Rode o codigo\n",
      "Ação ABEV3 já processada, pulando.\n",
      "Rode o codigo\n",
      "Rode o codigo\n",
      "Ação ABEV3 já processada, pulando.\n",
      "Rode o codigo\n",
      "Rode o codigo\n",
      "Código de negociação não encontrado.\n"
     ]
    }
   ],
   "source": [
    "from selenium.webdriver.chrome.service import Service\n",
    "from selenium.webdriver.chrome.options import Options\n",
    "from selenium import webdriver\n",
    "from selenium.webdriver.common.by import By\n",
    "chrome_driver_path = \"/usr/bin/chromedriver\"\n",
    "\n",
    "service = Service(executable_path=chrome_driver_path)\n",
    "\n",
    "options = Options()\n",
    "options.add_argument(\"--headless\")  # Executar em modo headless\n",
    "options.add_argument(\"--no-sandbox\")\n",
    "options.add_argument(\"--disable-dev-shm-usage\")\n",
    "options.add_argument(\"--disable-dev-shm-usage\")  # Reduz o uso de memória\n",
    "options.add_argument(\"--disable-gpu\")  # Desativar o uso de GPU\n",
    "options.add_argument(\"--window-size=1920,1080\")  # Definir o tamanho da janela\n",
    "\n",
    "codigos_ibovespa = [\n",
    "    'ABEV3','ABEV3', 'AZUL4','BBDC4', 'ABEV3','BBSE3', 'ITUB4','ABEBEB'\n",
    "]\n",
    "\n",
    "acoes_processadas = set()\n",
    "for acao in codigos_ibovespa:\n",
    "    navegador = webdriver.Chrome(service=service, options=options)\n",
    "    navegador.get(f'https://www.investsite.com.br/principais_indicadores.php?cod_negociacao={acao}')\n",
    "    elemento = navegador.find_elements(By.XPATH, '/html/body/div[1]/div[4]/div[2]')\n",
    "    if acao in acoes_processadas:\n",
    "        print(f\"Ação {acao} já processada, pulando.\")   \n",
    "    elif 'código de negociação não encontrado.' in elemento[0].text:\n",
    "        print(\"Código de negociação não encontrado.\")         \n",
    "    else:\n",
    "        print('Rode o codigo')\n",
    "    acoes_processadas.add(acao)"
   ]
  },
  {
   "cell_type": "code",
   "execution_count": 28,
   "metadata": {},
   "outputs": [],
   "source": [
    "from selenium import webdriver\n",
    "from selenium.webdriver.common.by import By\n",
    "navegador = webdriver.Chrome(service=service, options=options)\n",
    "navegador.get(f'https://www.investsite.com.br/principais_indicadores.php?cod_negociacao=bbba3')"
   ]
  },
  {
   "cell_type": "code",
   "execution_count": 29,
   "metadata": {},
   "outputs": [],
   "source": [
    "elemento = navegador.find_elements(By.XPATH, '/html/body/div[1]/div[4]/div[2]')"
   ]
  },
  {
   "cell_type": "code",
   "execution_count": 30,
   "metadata": {},
   "outputs": [],
   "source": [
    "mensagem = elemento[0].text"
   ]
  },
  {
   "cell_type": "code",
   "execution_count": 38,
   "metadata": {},
   "outputs": [
    {
     "name": "stdout",
     "output_type": "stream",
     "text": [
      "Código de negociação não encontrado.\n"
     ]
    }
   ],
   "source": [
    "if 'código de negociação não encontrado.' in mensagem:\n",
    "    print(\"Código de negociação não encontrado.\")"
   ]
  },
  {
   "cell_type": "code",
   "execution_count": null,
   "metadata": {},
   "outputs": [],
   "source": []
  }
 ],
 "metadata": {
  "kernelspec": {
   "display_name": ".venv",
   "language": "python",
   "name": "python3"
  },
  "language_info": {
   "codemirror_mode": {
    "name": "ipython",
    "version": 3
   },
   "file_extension": ".py",
   "mimetype": "text/x-python",
   "name": "python",
   "nbconvert_exporter": "python",
   "pygments_lexer": "ipython3",
   "version": "3.12.0"
  }
 },
 "nbformat": 4,
 "nbformat_minor": 2
}
