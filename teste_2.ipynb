{
 "cells": [
  {
   "cell_type": "code",
   "execution_count": 16,
   "metadata": {},
   "outputs": [
    {
     "name": "stdout",
     "output_type": "stream",
     "text": [
      "Tempo de execução da ação ABEV3: 0.02 minutos\n",
      "Tempo de execução da ação AZUL4: 0.02 minutos\n",
      "Tempo de execução da ação B3SA3: 0.02 minutos\n"
     ]
    }
   ],
   "source": [
    "import sys\n",
    "sys.path.append('..')\n",
    "from FundamentsStockBrazil.SetorSubsetor import SetorDataScraper\n",
    "from selenium.webdriver.chrome.service import Service\n",
    "from selenium.webdriver.chrome.options import Options\n",
    "\n",
    "codigos_ibovespa = ['ABEV3', 'AZUL4', 'B3SA3']\n",
    "\n",
    "setor_financeiro = {'BBAS3', 'BBDC3', 'BBDC4', 'BBSE3', 'ITUB4', 'BPAC11', 'ITUB4', 'SANB11', 'IRBR3'}\n",
    "\n",
    "chrome_driver_path = \"/usr/bin/chromedriver\"\n",
    "\n",
    "service = Service(executable_path=chrome_driver_path)\n",
    "\n",
    "options = Options()\n",
    "options.add_argument(\"--headless\")  # Executar em modo headless\n",
    "options.add_argument(\"--no-sandbox\")\n",
    "options.add_argument(\"--disable-dev-shm-usage\")\n",
    "options.add_argument(\"--disable-dev-shm-usage\")  # Reduz o uso de memória\n",
    "options.add_argument(\"--disable-gpu\")  # Desativar o uso de GPU\n",
    "options.add_argument(\"--window-size=1920,1080\")  # Definir o tamanho da janela\n",
    "\n",
    "scraper = SetorDataScraper(setor_financeiro, options, service, acoes=codigos_ibovespa)\n",
    "\n",
    "dados = scraper.rodar_acoes()\n"
   ]
  },
  {
   "cell_type": "code",
   "execution_count": 17,
   "metadata": {},
   "outputs": [
    {
     "data": {
      "text/html": [
       "<div>\n",
       "<style scoped>\n",
       "    .dataframe tbody tr th:only-of-type {\n",
       "        vertical-align: middle;\n",
       "    }\n",
       "\n",
       "    .dataframe tbody tr th {\n",
       "        vertical-align: top;\n",
       "    }\n",
       "\n",
       "    .dataframe thead th {\n",
       "        text-align: right;\n",
       "    }\n",
       "</style>\n",
       "<table border=\"1\" class=\"dataframe\">\n",
       "  <thead>\n",
       "    <tr style=\"text-align: right;\">\n",
       "      <th></th>\n",
       "      <th>segmento_listagem</th>\n",
       "      <th>setor</th>\n",
       "      <th>segmento</th>\n",
       "      <th>tic</th>\n",
       "    </tr>\n",
       "  </thead>\n",
       "  <tbody>\n",
       "    <tr>\n",
       "      <th>0</th>\n",
       "      <td>Tradicional - BOVESPA</td>\n",
       "      <td>Consumo não Cíclico</td>\n",
       "      <td>Cervejas e Refrigerantes</td>\n",
       "      <td>ABEV3</td>\n",
       "    </tr>\n",
       "    <tr>\n",
       "      <th>1</th>\n",
       "      <td>Nível 2 de Governança Corporativa</td>\n",
       "      <td>Bens Industriais</td>\n",
       "      <td>Transporte Aéreo</td>\n",
       "      <td>AZUL4</td>\n",
       "    </tr>\n",
       "    <tr>\n",
       "      <th>2</th>\n",
       "      <td>Novo Mercado</td>\n",
       "      <td>Financeiro</td>\n",
       "      <td>Serviços Financeiros Diversos</td>\n",
       "      <td>B3SA3</td>\n",
       "    </tr>\n",
       "  </tbody>\n",
       "</table>\n",
       "</div>"
      ],
      "text/plain": [
       "                   segmento_listagem                setor  \\\n",
       "0              Tradicional - BOVESPA  Consumo não Cíclico   \n",
       "1  Nível 2 de Governança Corporativa     Bens Industriais   \n",
       "2                       Novo Mercado           Financeiro   \n",
       "\n",
       "                        segmento    tic  \n",
       "0       Cervejas e Refrigerantes  ABEV3  \n",
       "1               Transporte Aéreo  AZUL4  \n",
       "2  Serviços Financeiros Diversos  B3SA3  "
      ]
     },
     "execution_count": 17,
     "metadata": {},
     "output_type": "execute_result"
    }
   ],
   "source": [
    "dados"
   ]
  },
  {
   "cell_type": "code",
   "execution_count": null,
   "metadata": {},
   "outputs": [],
   "source": []
  }
 ],
 "metadata": {
  "kernelspec": {
   "display_name": "env",
   "language": "python",
   "name": "python3"
  },
  "language_info": {
   "codemirror_mode": {
    "name": "ipython",
    "version": 3
   },
   "file_extension": ".py",
   "mimetype": "text/x-python",
   "name": "python",
   "nbconvert_exporter": "python",
   "pygments_lexer": "ipython3",
   "version": "3.12.3"
  }
 },
 "nbformat": 4,
 "nbformat_minor": 2
}
